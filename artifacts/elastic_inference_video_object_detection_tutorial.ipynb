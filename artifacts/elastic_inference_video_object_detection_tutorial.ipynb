{
 "cells": [
  {
   "cell_type": "markdown",
   "metadata": {
    "colab_type": "text",
    "id": "V8-yl-s-WKMG"
   },
   "source": [
    "# Elastic Inference Video Object Detection Demo\n",
    "Welcome to the object detection inference walkthrough!  This notebook will walk you step by step through the process of using a pre-trained model to detect objects in images from a video. While this example is not in real-time due to the extraction of frames from the video, the example implies real-time detection can be done on a video that is having its frames streamed to the model in real-time."
   ]
  },
  {
   "cell_type": "markdown",
   "metadata": {
    "colab_type": "text",
    "id": "kFSqkTCdWKMI"
   },
   "source": [
    "# Imports"
   ]
  },
  {
   "cell_type": "code",
   "execution_count": null,
   "metadata": {
    "colab": {
     "autoexec": {
      "startup": false,
      "wait_interval": 0
     }
    },
    "colab_type": "code",
    "id": "hV4P5gyTWKMI"
   },
   "outputs": [],
   "source": [
    "import numpy as np\n",
    "import cv2\n",
    "import os\n",
    "import six.moves.urllib as urllib\n",
    "import sys\n",
    "import tarfile\n",
    "import tensorflow as tf\n",
    "import zipfile\n",
    "import time\n",
    "\n",
    "from distutils.version import StrictVersion\n",
    "from collections import defaultdict\n",
    "from io import StringIO\n",
    "from matplotlib import pyplot as plt\n",
    "from PIL import Image\n",
    "\n",
    "# This is needed since the notebook is stored in the object_detection folder.\n",
    "sys.path.append(\"..\")\n",
    "from object_detection.utils import ops as utils_ops"
   ]
  },
  {
   "cell_type": "markdown",
   "metadata": {
    "colab_type": "text",
    "id": "Wy72mWwAWKMK"
   },
   "source": [
    "## Env setup"
   ]
  },
  {
   "cell_type": "code",
   "execution_count": null,
   "metadata": {
    "colab": {
     "autoexec": {
      "startup": false,
      "wait_interval": 0
     }
    },
    "colab_type": "code",
    "id": "v7m_NY_aWKMK"
   },
   "outputs": [],
   "source": [
    "# This is needed to display the images.\n",
    "%matplotlib inline"
   ]
  },
  {
   "cell_type": "markdown",
   "metadata": {
    "colab_type": "text",
    "id": "r5FNuiRPWKMN"
   },
   "source": [
    "## Object detection imports\n",
    "Here are the imports from the object detection module."
   ]
  },
  {
   "cell_type": "code",
   "execution_count": null,
   "metadata": {
    "colab": {
     "autoexec": {
      "startup": false,
      "wait_interval": 0
     }
    },
    "colab_type": "code",
    "id": "bm0_uNRnWKMN"
   },
   "outputs": [],
   "source": [
    "import warnings\n",
    "warnings.filterwarnings('ignore')\n",
    "\n",
    "from utils import label_map_util\n",
    "\n",
    "from utils import visualization_utils as vis_util"
   ]
  },
  {
   "cell_type": "markdown",
   "metadata": {
    "colab_type": "text",
    "id": "cfn_tRFOWKMO"
   },
   "source": [
    "# Model preparation "
   ]
  },
  {
   "cell_type": "markdown",
   "metadata": {
    "colab_type": "text",
    "id": "X_sEBLpVWKMQ"
   },
   "source": [
    "## Variables\n",
    "\n",
    "Any model exported using the `export_inference_graph.py` tool can be loaded here simply by changing `PATH_TO_FROZEN_GRAPH` to point to a new .pb file.  \n",
    "\n",
    "By default we use an \"Faster RCNN with ResNet50\" model here. See the [detection model zoo](https://github.com/tensorflow/models/blob/master/research/object_detection/g3doc/detection_model_zoo.md) for a list of other models that can be run out-of-the-box with varying speeds and accuracies."
   ]
  },
  {
   "cell_type": "code",
   "execution_count": null,
   "metadata": {
    "colab": {
     "autoexec": {
      "startup": false,
      "wait_interval": 0
     }
    },
    "colab_type": "code",
    "id": "VyPz_t8WWKMQ"
   },
   "outputs": [],
   "source": [
    "# What model to download.\n",
    "MODEL_NAME = 'faster_rcnn_resnet50_coco_2018_01_28'\n",
    "MODEL_FILE = MODEL_NAME + '.tar.gz'\n",
    "DOWNLOAD_BASE = 'http://download.tensorflow.org/models/object_detection/'\n",
    "\n",
    "# Path to frozen detection graph. This is the actual model that is used for the object detection.\n",
    "PATH_TO_FROZEN_GRAPH = MODEL_NAME + '/frozen_inference_graph.pb'\n",
    "\n",
    "# List of the strings that is used to add correct label for each box.\n",
    "PATH_TO_LABELS = os.path.join('data', 'mscoco_label_map.pbtxt')"
   ]
  },
  {
   "cell_type": "markdown",
   "metadata": {
    "colab_type": "text",
    "id": "7ai8pLZZWKMS"
   },
   "source": [
    "## Download Model"
   ]
  },
  {
   "cell_type": "code",
   "execution_count": null,
   "metadata": {
    "colab": {
     "autoexec": {
      "startup": false,
      "wait_interval": 0
     }
    },
    "colab_type": "code",
    "id": "KILYnwR5WKMS"
   },
   "outputs": [],
   "source": [
    "opener = urllib.request.URLopener()\n",
    "opener.retrieve(DOWNLOAD_BASE + MODEL_FILE, MODEL_FILE)\n",
    "tar_file = tarfile.open(MODEL_FILE)\n",
    "for file in tar_file.getmembers():\n",
    "  file_name = os.path.basename(file.name)\n",
    "  if 'frozen_inference_graph.pb' in file_name:\n",
    "    tar_file.extract(file, os.getcwd())"
   ]
  },
  {
   "cell_type": "markdown",
   "metadata": {
    "colab_type": "text",
    "id": "YBcB9QHLWKMU"
   },
   "source": [
    "## Load a (frozen) Tensorflow model into memory."
   ]
  },
  {
   "cell_type": "code",
   "execution_count": null,
   "metadata": {
    "colab": {
     "autoexec": {
      "startup": false,
      "wait_interval": 0
     }
    },
    "colab_type": "code",
    "id": "KezjCRVvWKMV"
   },
   "outputs": [],
   "source": [
    "from tensorflow.contrib.ei.python.predictor.ei_predictor import EIPredictor\n",
    "\n",
    "\n",
    "ei_predictor = EIPredictor(\n",
    "                model_dir=PATH_TO_FROZEN_GRAPH,\n",
    "                input_names={\"inputs\":\"image_tensor:0\"},\n",
    "                output_names={\"detections_scores\":\"detection_scores:0\",\n",
    "                              \"detection_classes\":\"detection_classes:0\",\n",
    "                              \"detection_boxes\":\"detection_boxes:0\",\n",
    "                              \"num_detections\":\"num_detections:0\"},\n",
    "                use_ei=False)\n",
    "\n",
    "print('Loaded normal predictor')"
   ]
  },
  {
   "cell_type": "markdown",
   "metadata": {
    "colab_type": "text",
    "id": "_1MVVTcLWKMW"
   },
   "source": [
    "## Loading label map\n",
    "Label maps map indices to category names, so that when our convolution network predicts `5`, we know that this corresponds to `airplane`.  Here we use internal utility functions, but anything that returns a dictionary mapping integers to appropriate string labels would be fine"
   ]
  },
  {
   "cell_type": "code",
   "execution_count": null,
   "metadata": {
    "colab": {
     "autoexec": {
      "startup": false,
      "wait_interval": 0
     }
    },
    "colab_type": "code",
    "id": "hDbpHkiWWKMX"
   },
   "outputs": [],
   "source": [
    "category_index = label_map_util.create_category_index_from_labelmap(PATH_TO_LABELS, use_display_name=True)"
   ]
  },
  {
   "cell_type": "markdown",
   "metadata": {
    "colab_type": "text",
    "id": "EFsoUHvbWKMZ"
   },
   "source": [
    "## Helper code"
   ]
  },
  {
   "cell_type": "code",
   "execution_count": null,
   "metadata": {
    "colab": {
     "autoexec": {
      "startup": false,
      "wait_interval": 0
     }
    },
    "colab_type": "code",
    "id": "aSlYc3JkWKMa"
   },
   "outputs": [],
   "source": [
    "def load_image_into_numpy_array(image):\n",
    "  (im_width, im_height) = image.size\n",
    "  return np.array(image.getdata()).reshape(\n",
    "      (im_height, im_width, 3)).astype(np.uint8)"
   ]
  },
  {
   "cell_type": "markdown",
   "metadata": {
    "colab_type": "text",
    "id": "H0_1AGhrWKMc"
   },
   "source": [
    "# Detection"
   ]
  },
  {
   "cell_type": "code",
   "execution_count": null,
   "metadata": {
    "colab": {
     "autoexec": {
      "startup": false,
      "wait_interval": 0
     }
    },
    "colab_type": "code",
    "id": "jG-zn5ykWKMd"
   },
   "outputs": [],
   "source": [
    "VIDEO_PATH = \"/tensorflow/models/research/object_detection/dog_park.mp4\""
   ]
  },
  {
   "cell_type": "code",
   "execution_count": null,
   "metadata": {
    "colab": {
     "autoexec": {
      "startup": false,
      "wait_interval": 0
     }
    },
    "colab_type": "code",
    "id": "92BHxzcNWKMf"
   },
   "outputs": [],
   "source": [
    "def extract_video_frames(pathIn):\n",
    "    frames = []\n",
    "    cap = cv2.VideoCapture(pathIn)\n",
    "    count = 0\n",
    " \n",
    "    while (cap.isOpened()):\n",
    " \n",
    "        # Capture frame-by-frame\n",
    "        ret, frame = cap.read()\n",
    " \n",
    "        # Infer over \n",
    "        if ret == True and count < 40:\n",
    "            frame = cv2.cvtColor(frame, cv2.COLOR_BGR2RGB)\n",
    "            frames.append(frame)\n",
    "            count += 1\n",
    "        else:\n",
    "            break\n",
    " \n",
    "    # When everything done, release the capture\n",
    "    cap.release()\n",
    "    cv2.destroyAllWindows()\n",
    "    return frames\n",
    "\n",
    "\n",
    "def run_inference_for_single_image(image, ei_predictor):\n",
    "    \n",
    "  t1 = time.time()\n",
    "  output_dict = ei_predictor({\"inputs\": image})\n",
    "  t2 = time.time()\n",
    "  inference_time = t2-t1\n",
    "    \n",
    "  # all outputs are float32 numpy arrays, so convert types as appropriate\n",
    "  output_dict['num_detections'] = int(output_dict['num_detections'][0])\n",
    "  output_dict['detection_classes'] = output_dict[\n",
    "      'detection_classes'][0].astype(np.uint8)\n",
    "  output_dict['detection_boxes'] = output_dict['detection_boxes'][0]\n",
    "  output_dict['detection_scores'] = output_dict['detections_scores'][0]\n",
    "  \n",
    "  return output_dict, inference_time"
   ]
  },
  {
   "cell_type": "code",
   "execution_count": null,
   "metadata": {
    "colab": {
     "autoexec": {
      "startup": false,
      "wait_interval": 0
     }
    },
    "colab_type": "code",
    "id": "3a5wMHN8WKMh"
   },
   "outputs": [],
   "source": [
    "# Time model load\n",
    "dummy_input = np.random.rand(1,100,100,3) #256,256,3)\n",
    "t1 = time.time()\n",
    "_dummy_output = ei_predictor({\"inputs\": dummy_input})\n",
    "t2 = time.time()\n",
    "model_load_time = t2-t1\n",
    "print('Model load time (seconds): {}'.format(model_load_time))\n",
    "\n",
    "annotated_video_frames = []\n",
    "inference_times = []\n",
    "for i, image in enumerate(extract_video_frames(VIDEO_PATH)):\n",
    "  # Expand dimensions since the model expects images to have shape: [1, None, None, 3]\n",
    "  image_np_expanded = np.expand_dims(image, axis=0)\n",
    "  # Actual detection.\n",
    "  output_dict, inference_time = run_inference_for_single_image(image_np_expanded, ei_predictor)\n",
    "  inference_times.append(inference_time)\n",
    "  # Visualization of the results of a detection.\n",
    "  vis_util.visualize_boxes_and_labels_on_image_array(\n",
    "      image,\n",
    "      output_dict['detection_boxes'],\n",
    "      output_dict['detection_classes'],\n",
    "      output_dict['detection_scores'],\n",
    "      category_index,\n",
    "      instance_masks=output_dict.get('detection_masks'),\n",
    "      use_normalized_coordinates=True,\n",
    "      line_thickness=8)\n",
    "  \n",
    "  annotated_video_frames.append(image)\n",
    "\n",
    "del(ei_predictor)\n",
    "num_frames = len(inference_times)\n",
    "total_inference_time = sum(inference_times)\n",
    "print(\"Number of video frames: {}\\nAverage inference time (seconds): {}\\nTotal time taken (seconds): {}\"\n",
    "      .format(num_frames, total_inference_time/num_frames, total_inference_time))"
   ]
  },
  {
   "cell_type": "code",
   "execution_count": null,
   "metadata": {},
   "outputs": [],
   "source": [
    "ei_predictor = EIPredictor(\n",
    "                model_dir=PATH_TO_FROZEN_GRAPH,\n",
    "                input_names={\"inputs\":\"image_tensor:0\"},\n",
    "                output_names={\"detections_scores\":\"detection_scores:0\",\n",
    "                              \"detection_classes\":\"detection_classes:0\",\n",
    "                              \"detection_boxes\":\"detection_boxes:0\",\n",
    "                              \"num_detections\":\"num_detections:0\"},\n",
    "                use_ei=True)\n",
    "\n",
    "# Time model load\n",
    "dummy_input = np.random.rand(1,100,100,3) #256,256,3)\n",
    "t1 = time.time()\n",
    "_dummy_output = ei_predictor({\"inputs\": dummy_input})\n",
    "t2 = time.time()\n",
    "model_load_time = t2-t1\n",
    "print('Model load time (seconds): {}'.format(model_load_time))\n",
    "\n",
    "annotated_video_frames = []\n",
    "inference_times = []\n",
    "for i, image in enumerate(extract_video_frames(VIDEO_PATH)):\n",
    "  # Expand dimensions since the model expects images to have shape: [1, None, None, 3]\n",
    "  image_np_expanded = np.expand_dims(image, axis=0)\n",
    "  # Actual detection.\n",
    "  output_dict, inference_time = run_inference_for_single_image(image_np_expanded, ei_predictor)\n",
    "  inference_times.append(inference_time)\n",
    "  # Visualization of the results of a detection.\n",
    "  vis_util.visualize_boxes_and_labels_on_image_array(\n",
    "      image,\n",
    "      output_dict['detection_boxes'],\n",
    "      output_dict['detection_classes'],\n",
    "      output_dict['detection_scores'],\n",
    "      category_index,\n",
    "      instance_masks=output_dict.get('detection_masks'),\n",
    "      use_normalized_coordinates=True,\n",
    "      line_thickness=8)\n",
    "  \n",
    "  annotated_video_frames.append(image)\n",
    "\n",
    "del(image)\n",
    "del(ei_predictor)\n",
    "num_frames = len(inference_times)\n",
    "total_inference_time = sum(inference_times)\n",
    "print(\"Number of video frames: {}\\nAverage inference time (seconds): {}\\nTotal time taken (seconds): {}\"\n",
    "      .format(num_frames, total_inference_time/num_frames, total_inference_time))"
   ]
  },
  {
   "cell_type": "code",
   "execution_count": null,
   "metadata": {
    "colab": {
     "autoexec": {
      "startup": false,
      "wait_interval": 0
     }
    },
    "colab_type": "code",
    "id": "LQSEnEsPWKMj"
   },
   "outputs": [],
   "source": [
    "%pylab inline\n",
    "import io\n",
    "import base64\n",
    "from IPython.display import HTML\n",
    "from IPython.display import clear_output\n",
    "from ipywidgets import DOMWidget, Image, Video\n",
    "\n",
    "height,width,layers=annotated_video_frames[1].shape\n",
    "\n",
    "video=cv2.VideoWriter('annotated_dog_park.avi',\n",
    "                      cv2.VideoWriter_fourcc('M','J','P','G'),\n",
    "                      60, (width,height))\n",
    "\n",
    "for frame in annotated_video_frames:\n",
    "    video.write(cv2.cvtColor(frame, cv2.COLOR_RGB2BGR))\n",
    "    \n",
    "del(frame)\n",
    "del(annotated_video_frames)\n",
    "cv2.destroyAllWindows()\n",
    "video.release()\n",
    "\n",
    "\n",
    "HTML(\"\"\"\n",
    "    <video controls src=\"{0}\" loop=1 autoplay width=100%/> \n",
    "    \"\"\".format('dog_park.mp4')\n",
    ")"
   ]
  },
  {
   "cell_type": "code",
   "execution_count": null,
   "metadata": {},
   "outputs": [],
   "source": [
    "import ffmpeg\n",
    "\n",
    "(\n",
    "    ffmpeg\n",
    "    .input('annotated_dog_park.avi')\n",
    "    .output('annotated_dog_park.mp4')\n",
    "    .overwrite_output()\n",
    "    .run()\n",
    ")\n",
    "\n",
    "HTML(\"\"\"\n",
    "    <video controls src=\"{0}\" loop=1 autoplay width=100%/> \n",
    "    \"\"\".format('annotated_dog_park.mp4')\n",
    ")"
   ]
  },
  {
   "cell_type": "code",
   "execution_count": null,
   "metadata": {},
   "outputs": [],
   "source": []
  }
 ],
 "metadata": {
  "colab": {
   "default_view": {},
   "name": "object_detection_tutorial.ipynb?workspaceId=ronnyvotel:python_inference::citc",
   "provenance": [],
   "version": "0.3.2",
   "views": {}
  },
  "kernelspec": {
   "display_name": "Python 2",
   "language": "python",
   "name": "python2"
  },
  "language_info": {
   "codemirror_mode": {
    "name": "ipython",
    "version": 2
   },
   "file_extension": ".py",
   "mimetype": "text/x-python",
   "name": "python",
   "nbconvert_exporter": "python",
   "pygments_lexer": "ipython2",
   "version": "2.7.12"
  }
 },
 "nbformat": 4,
 "nbformat_minor": 1
}
